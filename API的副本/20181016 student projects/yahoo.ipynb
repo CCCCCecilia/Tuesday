{
 "cells": [
  {
   "cell_type": "code",
   "execution_count": 1,
   "metadata": {},
   "outputs": [],
   "source": [
    "url = 'https://query1.finance.yahoo.com/v10/finance/quoteSummary/AAPL?formatted=true&lang=en-US&region=US&modules=financialData'"
   ]
  },
  {
   "cell_type": "code",
   "execution_count": 61,
   "metadata": {},
   "outputs": [
    {
     "data": {
      "text/plain": [
       "'https://query1.finance.yahoo.com/v10/finance/quoteSummary/AAPL?formatted=true&lang=en-US&region=US&modules=financialData'"
      ]
     },
     "execution_count": 61,
     "metadata": {},
     "output_type": "execute_result"
    }
   ],
   "source": [
    "url"
   ]
  },
  {
   "cell_type": "code",
   "execution_count": 2,
   "metadata": {},
   "outputs": [],
   "source": [
    "import requests"
   ]
  },
  {
   "cell_type": "code",
   "execution_count": 3,
   "metadata": {},
   "outputs": [],
   "source": [
    "r = requests.get(url)"
   ]
  },
  {
   "cell_type": "code",
   "execution_count": 4,
   "metadata": {
    "scrolled": true
   },
   "outputs": [
    {
     "data": {
      "text/plain": [
       "{'quoteSummary': {'result': [{'financialData': {'maxAge': 86400,\n",
       "     'currentPrice': {'raw': 217.36, 'fmt': '217.36'},\n",
       "     'targetHighPrice': {'raw': 300.0, 'fmt': '300.00'},\n",
       "     'targetLowPrice': {'raw': 175.0, 'fmt': '175.00'},\n",
       "     'targetMeanPrice': {'raw': 236.9, 'fmt': '236.90'},\n",
       "     'targetMedianPrice': {'raw': 242.0, 'fmt': '242.00'},\n",
       "     'recommendationMean': {'raw': 2.0, 'fmt': '2.00'},\n",
       "     'recommendationKey': 'buy',\n",
       "     'numberOfAnalystOpinions': {'raw': 35, 'fmt': '35', 'longFmt': '35'},\n",
       "     'totalCash': {'raw': 70969999360,\n",
       "      'fmt': '70.97B',\n",
       "      'longFmt': '70,969,999,360'},\n",
       "     'totalCashPerShare': {'raw': 14.694, 'fmt': '14.69'},\n",
       "     'ebitda': {'raw': 78533001216,\n",
       "      'fmt': '78.53B',\n",
       "      'longFmt': '78,533,001,216'},\n",
       "     'totalDebt': {'raw': 114600001536,\n",
       "      'fmt': '114.6B',\n",
       "      'longFmt': '114,600,001,536'},\n",
       "     'quickRatio': {'raw': 1.099, 'fmt': '1.10'},\n",
       "     'currentRatio': {'raw': 1.307, 'fmt': '1.31'},\n",
       "     'totalRevenue': {'raw': 255273992192,\n",
       "      'fmt': '255.27B',\n",
       "      'longFmt': '255,273,992,192'},\n",
       "     'debtToEquity': {'raw': 99.696, 'fmt': '99.70'},\n",
       "     'revenuePerShare': {'raw': 50.626, 'fmt': '50.63'},\n",
       "     'returnOnAssets': {'raw': 0.12222999, 'fmt': '12.22%'},\n",
       "     'returnOnEquity': {'raw': 0.45373002, 'fmt': '45.37%'},\n",
       "     'grossProfits': {'raw': 88186000000,\n",
       "      'fmt': '88.19B',\n",
       "      'longFmt': '88,186,000,000'},\n",
       "     'freeCashflow': {'raw': 41444749312,\n",
       "      'fmt': '41.44B',\n",
       "      'longFmt': '41,444,749,312'},\n",
       "     'operatingCashflow': {'raw': 73032998912,\n",
       "      'fmt': '73.03B',\n",
       "      'longFmt': '73,032,998,912'},\n",
       "     'earningsGrowth': {'raw': 0.401, 'fmt': '40.10%'},\n",
       "     'revenueGrowth': {'raw': 0.173, 'fmt': '17.30%'},\n",
       "     'grossMargins': {'raw': 0.38267, 'fmt': '38.27%'},\n",
       "     'ebitdaMargins': {'raw': 0.30764, 'fmt': '30.76%'},\n",
       "     'operatingMargins': {'raw': 0.26599002, 'fmt': '26.60%'},\n",
       "     'profitMargins': {'raw': 0.21983999, 'fmt': '21.98%'},\n",
       "     'financialCurrency': 'USD'}}],\n",
       "  'error': None}}"
      ]
     },
     "execution_count": 4,
     "metadata": {},
     "output_type": "execute_result"
    }
   ],
   "source": [
    "data = r.json()\n",
    "data"
   ]
  },
  {
   "cell_type": "code",
   "execution_count": 69,
   "metadata": {},
   "outputs": [
    {
     "data": {
      "text/plain": [
       "dict_keys(['quoteSummary'])"
      ]
     },
     "execution_count": 69,
     "metadata": {},
     "output_type": "execute_result"
    }
   ],
   "source": [
    "data.keys()"
   ]
  },
  {
   "cell_type": "code",
   "execution_count": 5,
   "metadata": {},
   "outputs": [
    {
     "data": {
      "text/plain": [
       "dict_keys(['raw', 'fmt', 'longFmt'])"
      ]
     },
     "execution_count": 5,
     "metadata": {},
     "output_type": "execute_result"
    }
   ],
   "source": [
    "e = data['quoteSummary']['result'][0]['financialData']['ebitda']\n",
    "e.keys()"
   ]
  },
  {
   "cell_type": "code",
   "execution_count": 7,
   "metadata": {},
   "outputs": [
    {
     "data": {
      "text/plain": [
       "'78.53B'"
      ]
     },
     "execution_count": 7,
     "metadata": {},
     "output_type": "execute_result"
    }
   ],
   "source": [
    "e['fmt']"
   ]
  },
  {
   "cell_type": "code",
   "execution_count": 93,
   "metadata": {},
   "outputs": [
    {
     "ename": "TypeError",
     "evalue": "string indices must be integers",
     "output_type": "error",
     "traceback": [
      "\u001b[1;31m---------------------------------------------------------------------------\u001b[0m",
      "\u001b[1;31mTypeError\u001b[0m                                 Traceback (most recent call last)",
      "\u001b[1;32m<ipython-input-93-6a2340dd4e58>\u001b[0m in \u001b[0;36m<module>\u001b[1;34m()\u001b[0m\n\u001b[0;32m      1\u001b[0m \u001b[0mebitda\u001b[0m \u001b[1;33m=\u001b[0m \u001b[1;33m[\u001b[0m\u001b[1;33m]\u001b[0m\u001b[1;33m\u001b[0m\u001b[0m\n\u001b[0;32m      2\u001b[0m \u001b[1;32mfor\u001b[0m \u001b[0me\u001b[0m \u001b[1;32min\u001b[0m \u001b[0mdata\u001b[0m\u001b[1;33m[\u001b[0m\u001b[1;34m'quoteSummary'\u001b[0m\u001b[1;33m]\u001b[0m\u001b[1;33m[\u001b[0m\u001b[1;34m'result'\u001b[0m\u001b[1;33m]\u001b[0m\u001b[1;33m[\u001b[0m\u001b[1;36m0\u001b[0m\u001b[1;33m]\u001b[0m\u001b[1;33m[\u001b[0m\u001b[1;34m'financialData'\u001b[0m\u001b[1;33m]\u001b[0m\u001b[1;33m[\u001b[0m\u001b[1;34m'ebitda'\u001b[0m\u001b[1;33m]\u001b[0m\u001b[1;33m:\u001b[0m\u001b[1;33m\u001b[0m\u001b[0m\n\u001b[1;32m----> 3\u001b[1;33m     \u001b[0mraw\u001b[0m \u001b[1;33m=\u001b[0m \u001b[0me\u001b[0m\u001b[1;33m[\u001b[0m\u001b[1;34m'raw'\u001b[0m\u001b[1;33m]\u001b[0m\u001b[1;33m\u001b[0m\u001b[0m\n\u001b[0m\u001b[0;32m      4\u001b[0m     \u001b[0mfmt\u001b[0m \u001b[1;33m=\u001b[0m \u001b[0me\u001b[0m\u001b[1;33m[\u001b[0m\u001b[1;34m'fmt'\u001b[0m\u001b[1;33m]\u001b[0m\u001b[1;33m\u001b[0m\u001b[0m\n\u001b[0;32m      5\u001b[0m     \u001b[0mlongFmt\u001b[0m \u001b[1;33m=\u001b[0m \u001b[0me\u001b[0m\u001b[1;33m[\u001b[0m\u001b[1;34m'longFmt'\u001b[0m\u001b[1;33m]\u001b[0m\u001b[1;33m\u001b[0m\u001b[0m\n",
      "\u001b[1;31mTypeError\u001b[0m: string indices must be integers"
     ]
    }
   ],
   "source": [
    "ebitda = []\n",
    "for e in data['quoteSummary']['result'][0]['financialData']['ebitda']:\n",
    "    raw = e['raw']\n",
    "    fmt = e['fmt']\n",
    "    longFmt = e['longFmt']\n",
    "    events.append([raw,fmt,longFmt])"
   ]
  },
  {
   "cell_type": "code",
   "execution_count": 35,
   "metadata": {},
   "outputs": [],
   "source": [
    "events = []\n",
    "for e in data['features']:\n",
    "    time = e['properties']['time']\n",
    "    mag = e['properties']['mag']\n",
    "    lon = e['geometry']['coordinates'][0]\n",
    "    lat = e['geometry']['coordinates'][1]\n",
    "    events.append([time,lon,lat,mag])"
   ]
  },
  {
   "cell_type": "code",
   "execution_count": 38,
   "metadata": {},
   "outputs": [],
   "source": [
    "import csv\n",
    "with open('earthquake.csv','w',newline = '')as f:\n",
    "    writer = csv.writer(f)\n",
    "    header = ['time','lon','lag','mag']\n",
    "    writer.writerow(header)\n",
    "    \n",
    "    for i in range(0,len(events)):\n",
    "        writer.writerow([events[i][0],events[i][1],events[i][2],events[i][3]])\n",
    "    \n",
    "    f.close()"
   ]
  },
  {
   "cell_type": "code",
   "execution_count": null,
   "metadata": {},
   "outputs": [],
   "source": []
  },
  {
   "cell_type": "code",
   "execution_count": 10,
   "metadata": {},
   "outputs": [
    {
     "data": {
      "text/plain": [
       "'78.53B'"
      ]
     },
     "execution_count": 10,
     "metadata": {},
     "output_type": "execute_result"
    }
   ],
   "source": [
    "url = 'https://query1.finance.yahoo.com/v10/finance/quoteSummary/AAPL?formatted=true&lang=en-US&region=US&modules=financialData'\n",
    "r = requests.get(url)\n",
    "data = r.json()\n",
    "e = data['quoteSummary']['result'][0]['financialData']['ebitda']\n",
    "e['fmt']"
   ]
  },
  {
   "cell_type": "code",
   "execution_count": 11,
   "metadata": {},
   "outputs": [
    {
     "data": {
      "text/plain": [
       "'38.21B'"
      ]
     },
     "execution_count": 11,
     "metadata": {},
     "output_type": "execute_result"
    }
   ],
   "source": [
    "url = 'https://query1.finance.yahoo.com/v10/finance/quoteSummary/GOOG?formatted=true&lang=en-US&region=US&modules=financialData'\n",
    "r = requests.get(url)\n",
    "data = r.json()\n",
    "e = data['quoteSummary']['result'][0]['financialData']['ebitda']\n",
    "e['fmt']"
   ]
  },
  {
   "cell_type": "code",
   "execution_count": 12,
   "metadata": {},
   "outputs": [
    {
     "data": {
      "text/plain": [
       "'4.64B'"
      ]
     },
     "execution_count": 12,
     "metadata": {},
     "output_type": "execute_result"
    }
   ],
   "source": [
    "url = 'https://query1.finance.yahoo.com/v10/finance/quoteSummary/NVDA?formatted=true&lang=en-US&region=US&modules=financialData'\n",
    "r = requests.get(url)\n",
    "data = r.json()\n",
    "e = data['quoteSummary']['result'][0]['financialData']['ebitda']\n",
    "e['fmt']"
   ]
  },
  {
   "cell_type": "code",
   "execution_count": 13,
   "metadata": {},
   "outputs": [],
   "source": [
    "def val(symbol):\n",
    "    url = 'https://query1.finance.yahoo.com/v10/finance/quoteSummary/{0}?formatted=true&lang=en-US&region=US&modules=financialData'.format(symbol)\n",
    "    r = requests.get(url)\n",
    "    data = r.json()\n",
    "    e = data['quoteSummary']['result'][0]['financialData']['ebitda']\n",
    "    return e['fmt']"
   ]
  },
  {
   "cell_type": "code",
   "execution_count": 14,
   "metadata": {},
   "outputs": [
    {
     "data": {
      "text/plain": [
       "'78.53B'"
      ]
     },
     "execution_count": 14,
     "metadata": {},
     "output_type": "execute_result"
    }
   ],
   "source": [
    "val('AAPL')"
   ]
  },
  {
   "cell_type": "code",
   "execution_count": 15,
   "metadata": {},
   "outputs": [
    {
     "data": {
      "text/plain": [
       "'38.21B'"
      ]
     },
     "execution_count": 15,
     "metadata": {},
     "output_type": "execute_result"
    }
   ],
   "source": [
    "val('GOOG')"
   ]
  },
  {
   "cell_type": "code",
   "execution_count": 17,
   "metadata": {},
   "outputs": [
    {
     "data": {
      "text/plain": [
       "'28.97B'"
      ]
     },
     "execution_count": 17,
     "metadata": {},
     "output_type": "execute_result"
    }
   ],
   "source": [
    "val('INTC')"
   ]
  },
  {
   "cell_type": "code",
   "execution_count": null,
   "metadata": {},
   "outputs": [],
   "source": []
  }
 ],
 "metadata": {
  "kernelspec": {
   "display_name": "Python 3",
   "language": "python",
   "name": "python3"
  },
  "language_info": {
   "codemirror_mode": {
    "name": "ipython",
    "version": 3
   },
   "file_extension": ".py",
   "mimetype": "text/x-python",
   "name": "python",
   "nbconvert_exporter": "python",
   "pygments_lexer": "ipython3",
   "version": "3.7.0"
  }
 },
 "nbformat": 4,
 "nbformat_minor": 2
}
